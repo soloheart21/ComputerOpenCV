{
 "cells": [
  {
   "cell_type": "markdown",
   "id": "9e2f7e81-8a8a-4be8-a12a-6b5f2fda46be",
   "metadata": {},
   "source": [
    "Real-Time Edge Detection in Live Camera Feed or Video\n"
   ]
  },
  {
   "cell_type": "code",
   "execution_count": 1,
   "id": "81a15355-9ccd-464a-a06b-e0730858d2cf",
   "metadata": {},
   "outputs": [],
   "source": [
    "import cv2"
   ]
  },
  {
   "cell_type": "code",
   "execution_count": 2,
   "id": "522c71a9-5e4a-4961-9554-30f7e27b8e23",
   "metadata": {},
   "outputs": [],
   "source": [
    "cap = cv2.VideoCapture(0)"
   ]
  },
  {
   "cell_type": "code",
   "execution_count": 3,
   "id": "4ed1bb7c-e458-4e2b-bfe0-d40676ea23db",
   "metadata": {},
   "outputs": [],
   "source": [
    "while(True):\n",
    "    ret, frame = cap.read()\n",
    "    if not ret:\n",
    "        break\n",
    "    \n",
    "    gray = cv2.cvtColor(frame, cv2.COLOR_BGR2GRAY)\n",
    "    \n",
    "    sobelx = cv2.Sobel(gray, cv2.CV_64F, 1, 0, ksize=5)\n",
    "    sobely = cv2.Sobel(gray, cv2.CV_64F, 0, 1, ksize=5)\n",
    "    sobel_combined = cv2.sqrt(cv2.addWeighted(sobelx, 0.5, sobely, 0.5, 0))\n",
    "    \n",
    "    laplacian = cv2.Laplacian(gray, cv2.CV_64F)\n",
    "    \n",
    "    cv2.imshow('Original', frame)\n",
    "    cv2.imshow('Sobel Edge Detection', sobel_combined)\n",
    "    cv2.imshow('Laplacian Edge Detection', laplacian)\n",
    "    \n",
    "    if cv2.waitKey(1) & 0xFF == ord('q'):\n",
    "        break\n",
    "\n",
    "cap.release()\n",
    "cv2.destroyAllWindows()\n"
   ]
  },
  {
   "cell_type": "code",
   "execution_count": null,
   "id": "4c6af0fc-3b29-46d0-95ed-baca6c16f23c",
   "metadata": {},
   "outputs": [],
   "source": []
  }
 ],
 "metadata": {
  "kernelspec": {
   "display_name": "Python 3 (ipykernel)",
   "language": "python",
   "name": "python3"
  },
  "language_info": {
   "codemirror_mode": {
    "name": "ipython",
    "version": 3
   },
   "file_extension": ".py",
   "mimetype": "text/x-python",
   "name": "python",
   "nbconvert_exporter": "python",
   "pygments_lexer": "ipython3",
   "version": "3.11.9"
  }
 },
 "nbformat": 4,
 "nbformat_minor": 5
}
